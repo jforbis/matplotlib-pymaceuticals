# To add a new cell, type '# %%'
# To add a new markdown cell, type '# %% [markdown]'
# %% [markdown]
# ## Observations and Insights 
# %% [markdown]
# 

# %%
# Dependencies and Setup
import matplotlib.pyplot as plt
import pandas as pd
import scipy.stats as st

# Study data files
mouse_metadata_path = "data/Mouse_metadata.csv"
study_results_path = "data/Study_results.csv"

# Read the mouse data and the study results
mouse_metadata = pd.read_csv(mouse_metadata_path)
study_results = pd.read_csv(study_results_path)

# Combine the data into a single dataset
merge_df = pd.merge(mouse_metadata, study_results, on="Mouse ID")

# Display the data table for preview
merge_df.head()


# %%
# Checking the number of mice.
total_mice = merge_df["Mouse ID"].nunique()
print(total_mice)


# %%
# Getting the duplicate mice by ID number that shows up for Mouse ID and Timepoint. 
dup = merge_df.groupby(["Mouse ID"])
dup_mice = dup["Mouse ID"].count()
print(dup_mice)


# %%
# Optional: Get all the data for the duplicate mouse ID. 
merge_df[merge_df.duplicated(subset=["Mouse ID", "Timepoint"], keep=False)]


# %%
# Create a clean DataFrame by dropping the duplicate mouse by its ID.
clean_df = merge_df.drop_duplicates(subset=["Mouse ID","Timepoint"], keep=False)
clean_df.head()
# dup = purchase_data.drop_duplicates(subset='SN', keep="first")


# %%
# Checking the number of mice in the clean DataFrame.
clean_mice_df = clean_df["Mouse ID"].count()
clean_mice_df

# %% [markdown]
# ## Summary Statistics

# %%
# Generate a summary statistics table of mean, median, variance, standard deviation, and SEM of the tumor volume for each regimen
# mice_mean = clean_df["Tumor Volume (mm3)"].mean()
# mice_med = clean_df["Tumor Volume (mm3)"].median()
# mice_var = clean_df["Tumor Volume (mm3)"].var()
# mice_std = clean_df["Tumor Volume (mm3)"].std()
# mice_sem = clean_df["Tumor Volume (mm3)"].sem()

summary = clean_df["Tumor Volume (mm3)"].describe()
summary
# need: var & sem
# Use groupby and summary statistical methods to calculate the following properties of each drug regimen: 
# mean, median, variance, standard deviation, and SEM of the tumor volume. 
# Assemble the resulting series into a single summary dataframe.


# %%
# Generate a summary statistics table of mean, median, variance, standard deviation, and SEM of the tumor volume for each regimen

# Using the aggregation method, produce the same summary statistics in a single line

# %% [markdown]
# ## Bar and Pie Charts

# %%
# Generate a bar plot showing the total number of measurements taken on each drug regimen using pandas.


# %%
# Generate a bar plot showing the total number of measurements taken on each drug regimen using pyplot.


# %%
# Generate a pie plot showing the distribution of female versus male mice using pandas


# %%
# Generate a pie plot showing the distribution of female versus male mice using pyplot

# %% [markdown]
# ## Quartiles, Outliers and Boxplots

# %%
# Calculate the final tumor volume of each mouse across four of the treatment regimens:  
# Capomulin, Ramicane, Infubinol, and Ceftamin

# Start by getting the last (greatest) timepoint for each mouse


# Merge this group df with the original dataframe to get the tumor volume at the last timepoint


# %%
# Put treatments into a list for for loop (and later for plot labels)


# Create empty list to fill with tumor vol data (for plotting)


# Calculate the IQR and quantitatively determine if there are any potential outliers. 

    
    # Locate the rows which contain mice on each drug and get the tumor volumes
    
    
    # add subset 
    
    
    # Determine outliers using upper and lower bounds
    


# %%
# Generate a box plot of the final tumor volume of each mouse across four regimens of interest

# %% [markdown]
# ## Line and Scatter Plots

# %%
# Generate a line plot of tumor volume vs. time point for a mouse treated with Capomulin


# %%
# Generate a scatter plot of average tumor volume vs. mouse weight for the Capomulin regimen

# %% [markdown]
# ## Correlation and Regression

# %%
# Calculate the correlation coefficient and linear regression model 
# for mouse weight and average tumor volume for the Capomulin regimen


# %%



